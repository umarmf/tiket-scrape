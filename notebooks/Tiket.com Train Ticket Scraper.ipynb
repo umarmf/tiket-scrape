{
 "cells": [
  {
   "cell_type": "markdown",
   "metadata": {},
   "source": [
    "# Work in Progress/Add in Future:\n",
    "\n",
    "- Scrape data for min. 1 week\n",
    "- Change cities"
   ]
  },
  {
   "cell_type": "code",
   "execution_count": 1,
   "metadata": {},
   "outputs": [],
   "source": [
    "import os\n",
    "import sys\n",
    "from datetime import datetime as dt\n",
    "from datetime import date\n",
    "from datetime import timedelta\n",
    "import glob\n",
    "import numpy as np\n",
    "import pandas as pd\n",
    "sys.path.insert(0, os.path.abspath('..\\modules'))\n",
    "import pricemate as pm\n",
    "todaydate = date.today().strftime('%Y%m%d')"
   ]
  },
  {
   "cell_type": "code",
   "execution_count": 2,
   "metadata": {},
   "outputs": [
    {
     "name": "stdout",
     "output_type": "stream",
     "text": [
      "\n",
      "Looking for [chromedriver 79.0.3945.36 win32] driver in cache \n",
      "File found in cache by path [C:\\Users\\Zenbook\\.wdm\\drivers\\chromedriver\\79.0.3945.36\\win32\\chromedriver.exe]\n"
     ]
    }
   ],
   "source": [
    "# scrape data using pricemate module\n",
    "df_today = pm.multiple_days_df(0,20)"
   ]
  },
  {
   "cell_type": "code",
   "execution_count": 3,
   "metadata": {},
   "outputs": [
    {
     "data": {
      "text/html": [
       "<div>\n",
       "<style scoped>\n",
       "    .dataframe tbody tr th:only-of-type {\n",
       "        vertical-align: middle;\n",
       "    }\n",
       "\n",
       "    .dataframe tbody tr th {\n",
       "        vertical-align: top;\n",
       "    }\n",
       "\n",
       "    .dataframe thead th {\n",
       "        text-align: right;\n",
       "    }\n",
       "</style>\n",
       "<table border=\"1\" class=\"dataframe\">\n",
       "  <thead>\n",
       "    <tr style=\"text-align: right;\">\n",
       "      <th></th>\n",
       "      <th>arrival_date</th>\n",
       "      <th>arrival_time</th>\n",
       "      <th>depart_date</th>\n",
       "      <th>depart_time</th>\n",
       "      <th>price</th>\n",
       "      <th>seats</th>\n",
       "      <th>tclass</th>\n",
       "      <th>title</th>\n",
       "    </tr>\n",
       "  </thead>\n",
       "  <tbody>\n",
       "    <tr>\n",
       "      <th>0</th>\n",
       "      <td>2020-01-13</td>\n",
       "      <td>01:27</td>\n",
       "      <td>2020-01-12</td>\n",
       "      <td>22:05</td>\n",
       "      <td>110000</td>\n",
       "      <td>99</td>\n",
       "      <td>ekonomi (Subclass S)</td>\n",
       "      <td>argo parahyangan 50</td>\n",
       "    </tr>\n",
       "    <tr>\n",
       "      <th>1</th>\n",
       "      <td>2020-01-13</td>\n",
       "      <td>02:05</td>\n",
       "      <td>2020-01-12</td>\n",
       "      <td>22:55</td>\n",
       "      <td>110000</td>\n",
       "      <td>99</td>\n",
       "      <td>ekonomi (Subclass S)</td>\n",
       "      <td>argo parahyangan 52</td>\n",
       "    </tr>\n",
       "    <tr>\n",
       "      <th>2</th>\n",
       "      <td>2020-01-13</td>\n",
       "      <td>02:40</td>\n",
       "      <td>2020-01-12</td>\n",
       "      <td>23:30</td>\n",
       "      <td>110000</td>\n",
       "      <td>99</td>\n",
       "      <td>ekonomi (Subclass S)</td>\n",
       "      <td>argo parahyangan 70F</td>\n",
       "    </tr>\n",
       "    <tr>\n",
       "      <th>3</th>\n",
       "      <td>2020-01-13</td>\n",
       "      <td>01:27</td>\n",
       "      <td>2020-01-12</td>\n",
       "      <td>22:05</td>\n",
       "      <td>150000</td>\n",
       "      <td>99</td>\n",
       "      <td>eksekutif (Subclass J)</td>\n",
       "      <td>argo parahyangan 50</td>\n",
       "    </tr>\n",
       "    <tr>\n",
       "      <th>4</th>\n",
       "      <td>2020-01-13</td>\n",
       "      <td>02:05</td>\n",
       "      <td>2020-01-12</td>\n",
       "      <td>22:55</td>\n",
       "      <td>150000</td>\n",
       "      <td>99</td>\n",
       "      <td>eksekutif (Subclass J)</td>\n",
       "      <td>argo parahyangan 52</td>\n",
       "    </tr>\n",
       "  </tbody>\n",
       "</table>\n",
       "</div>"
      ],
      "text/plain": [
       "  arrival_date arrival_time depart_date depart_time   price seats  \\\n",
       "0   2020-01-13        01:27  2020-01-12       22:05  110000    99   \n",
       "1   2020-01-13        02:05  2020-01-12       22:55  110000    99   \n",
       "2   2020-01-13        02:40  2020-01-12       23:30  110000    99   \n",
       "3   2020-01-13        01:27  2020-01-12       22:05  150000    99   \n",
       "4   2020-01-13        02:05  2020-01-12       22:55  150000    99   \n",
       "\n",
       "                   tclass                 title  \n",
       "0    ekonomi (Subclass S)   argo parahyangan 50  \n",
       "1    ekonomi (Subclass S)   argo parahyangan 52  \n",
       "2    ekonomi (Subclass S)  argo parahyangan 70F  \n",
       "3  eksekutif (Subclass J)   argo parahyangan 50  \n",
       "4  eksekutif (Subclass J)   argo parahyangan 52  "
      ]
     },
     "execution_count": 3,
     "metadata": {},
     "output_type": "execute_result"
    }
   ],
   "source": [
    "df_today.head()"
   ]
  },
  {
   "cell_type": "code",
   "execution_count": 4,
   "metadata": {},
   "outputs": [],
   "source": [
    "df_today['scrape_date'] = dt.date(dt.now())\n",
    "\n",
    "# export scrape output to new csv\n",
    "df_today.to_csv('..\\scrape-csv\\gmr-bdg-' + todaydate + '.csv', index=False)"
   ]
  },
  {
   "cell_type": "code",
   "execution_count": 5,
   "metadata": {
    "scrolled": true
   },
   "outputs": [
    {
     "data": {
      "text/html": [
       "<div>\n",
       "<style scoped>\n",
       "    .dataframe tbody tr th:only-of-type {\n",
       "        vertical-align: middle;\n",
       "    }\n",
       "\n",
       "    .dataframe tbody tr th {\n",
       "        vertical-align: top;\n",
       "    }\n",
       "\n",
       "    .dataframe thead th {\n",
       "        text-align: right;\n",
       "    }\n",
       "</style>\n",
       "<table border=\"1\" class=\"dataframe\">\n",
       "  <thead>\n",
       "    <tr style=\"text-align: right;\">\n",
       "      <th></th>\n",
       "      <th>arrival_date</th>\n",
       "      <th>arrival_time</th>\n",
       "      <th>depart_date</th>\n",
       "      <th>depart_time</th>\n",
       "      <th>price</th>\n",
       "      <th>seats</th>\n",
       "      <th>tclass</th>\n",
       "      <th>title</th>\n",
       "      <th>scrape_date</th>\n",
       "    </tr>\n",
       "  </thead>\n",
       "  <tbody>\n",
       "    <tr>\n",
       "      <th>0</th>\n",
       "      <td>2020-01-13</td>\n",
       "      <td>01:27</td>\n",
       "      <td>2020-01-12</td>\n",
       "      <td>22:05</td>\n",
       "      <td>110000</td>\n",
       "      <td>99</td>\n",
       "      <td>ekonomi (Subclass S)</td>\n",
       "      <td>argo parahyangan 50</td>\n",
       "      <td>2020-01-12</td>\n",
       "    </tr>\n",
       "    <tr>\n",
       "      <th>1</th>\n",
       "      <td>2020-01-13</td>\n",
       "      <td>02:05</td>\n",
       "      <td>2020-01-12</td>\n",
       "      <td>22:55</td>\n",
       "      <td>110000</td>\n",
       "      <td>99</td>\n",
       "      <td>ekonomi (Subclass S)</td>\n",
       "      <td>argo parahyangan 52</td>\n",
       "      <td>2020-01-12</td>\n",
       "    </tr>\n",
       "    <tr>\n",
       "      <th>2</th>\n",
       "      <td>2020-01-13</td>\n",
       "      <td>02:40</td>\n",
       "      <td>2020-01-12</td>\n",
       "      <td>23:30</td>\n",
       "      <td>110000</td>\n",
       "      <td>99</td>\n",
       "      <td>ekonomi (Subclass S)</td>\n",
       "      <td>argo parahyangan 70F</td>\n",
       "      <td>2020-01-12</td>\n",
       "    </tr>\n",
       "    <tr>\n",
       "      <th>3</th>\n",
       "      <td>2020-01-13</td>\n",
       "      <td>01:27</td>\n",
       "      <td>2020-01-12</td>\n",
       "      <td>22:05</td>\n",
       "      <td>150000</td>\n",
       "      <td>99</td>\n",
       "      <td>eksekutif (Subclass J)</td>\n",
       "      <td>argo parahyangan 50</td>\n",
       "      <td>2020-01-12</td>\n",
       "    </tr>\n",
       "    <tr>\n",
       "      <th>4</th>\n",
       "      <td>2020-01-13</td>\n",
       "      <td>02:05</td>\n",
       "      <td>2020-01-12</td>\n",
       "      <td>22:55</td>\n",
       "      <td>150000</td>\n",
       "      <td>99</td>\n",
       "      <td>eksekutif (Subclass J)</td>\n",
       "      <td>argo parahyangan 52</td>\n",
       "      <td>2020-01-12</td>\n",
       "    </tr>\n",
       "  </tbody>\n",
       "</table>\n",
       "</div>"
      ],
      "text/plain": [
       "  arrival_date arrival_time depart_date depart_time   price seats  \\\n",
       "0   2020-01-13        01:27  2020-01-12       22:05  110000    99   \n",
       "1   2020-01-13        02:05  2020-01-12       22:55  110000    99   \n",
       "2   2020-01-13        02:40  2020-01-12       23:30  110000    99   \n",
       "3   2020-01-13        01:27  2020-01-12       22:05  150000    99   \n",
       "4   2020-01-13        02:05  2020-01-12       22:55  150000    99   \n",
       "\n",
       "                   tclass                 title scrape_date  \n",
       "0    ekonomi (Subclass S)   argo parahyangan 50  2020-01-12  \n",
       "1    ekonomi (Subclass S)   argo parahyangan 52  2020-01-12  \n",
       "2    ekonomi (Subclass S)  argo parahyangan 70F  2020-01-12  \n",
       "3  eksekutif (Subclass J)   argo parahyangan 50  2020-01-12  \n",
       "4  eksekutif (Subclass J)   argo parahyangan 52  2020-01-12  "
      ]
     },
     "execution_count": 5,
     "metadata": {},
     "output_type": "execute_result"
    }
   ],
   "source": [
    "df = df_today\n",
    "df_today.head()"
   ]
  },
  {
   "cell_type": "code",
   "execution_count": 6,
   "metadata": {},
   "outputs": [
    {
     "name": "stderr",
     "output_type": "stream",
     "text": [
      "C:\\Users\\Zenbook\\Anaconda3\\lib\\site-packages\\pandas\\core\\frame.py:6692: FutureWarning: Sorting because non-concatenation axis is not aligned. A future version\n",
      "of pandas will change to not sort by default.\n",
      "\n",
      "To accept the future behavior, pass 'sort=False'.\n",
      "\n",
      "To retain the current behavior and silence the warning, pass 'sort=True'.\n",
      "\n",
      "  sort=sort)\n"
     ]
    }
   ],
   "source": [
    "# import and combine past scrape data with today's scrape, if any\n",
    "\n",
    "files = glob.glob('..\\scrape-csv\\*.csv')\n",
    "for file in files:\n",
    "    scrapedate = file[-12:-4]\n",
    "    if scrapedate < todaydate:\n",
    "        past_df = pd.read_csv(file)\n",
    "        past_df['scrape_date'] = pd.to_datetime(scrapedate)\n",
    "        df = df.append(past_df)\n",
    "\n",
    "\n",
    "# print('Earliest scrape: ' + str(min(df['scrape_datetime'])))\n",
    "# print('Latest scrape: ' + str(max(df['scrape_datetime'])))"
   ]
  },
  {
   "cell_type": "code",
   "execution_count": 7,
   "metadata": {},
   "outputs": [
    {
     "data": {
      "text/plain": [
       "\"\\nfor file in files:\\n    past_df = pd.read_csv(file)\\n    if 'arrive_time' in past_df.columns:\\n        past_df['arrival_time'] = past_df['arrive_time']\\n        past_df = past_df.drop(columns = ['arrive_time'])\\n        past_df.to_csv(file, index=False)\\n\""
      ]
     },
     "execution_count": 7,
     "metadata": {},
     "output_type": "execute_result"
    }
   ],
   "source": [
    "# change or remove columns\n",
    "\"\"\"\n",
    "for file in files:\n",
    "    past_df = pd.read_csv(file)\n",
    "    if 'arrive_time' in past_df.columns:\n",
    "        past_df['arrival_time'] = past_df['arrive_time']\n",
    "        past_df = past_df.drop(columns = ['arrive_time'])\n",
    "        past_df.to_csv(file, index=False)\n",
    "\"\"\""
   ]
  },
  {
   "cell_type": "code",
   "execution_count": 8,
   "metadata": {},
   "outputs": [
    {
     "data": {
      "text/html": [
       "<div>\n",
       "<style scoped>\n",
       "    .dataframe tbody tr th:only-of-type {\n",
       "        vertical-align: middle;\n",
       "    }\n",
       "\n",
       "    .dataframe tbody tr th {\n",
       "        vertical-align: top;\n",
       "    }\n",
       "\n",
       "    .dataframe thead th {\n",
       "        text-align: right;\n",
       "    }\n",
       "</style>\n",
       "<table border=\"1\" class=\"dataframe\">\n",
       "  <thead>\n",
       "    <tr style=\"text-align: right;\">\n",
       "      <th></th>\n",
       "      <th>arrival_date</th>\n",
       "      <th>arrival_datetime</th>\n",
       "      <th>arrival_time</th>\n",
       "      <th>depart_date</th>\n",
       "      <th>depart_datetime</th>\n",
       "      <th>depart_time</th>\n",
       "      <th>price</th>\n",
       "      <th>scrape_date</th>\n",
       "      <th>seats</th>\n",
       "      <th>tclass</th>\n",
       "      <th>title</th>\n",
       "    </tr>\n",
       "  </thead>\n",
       "  <tbody>\n",
       "    <tr>\n",
       "      <th>0</th>\n",
       "      <td>2020-01-13</td>\n",
       "      <td>NaN</td>\n",
       "      <td>01:27</td>\n",
       "      <td>2020-01-12</td>\n",
       "      <td>NaN</td>\n",
       "      <td>22:05</td>\n",
       "      <td>110000</td>\n",
       "      <td>2020-01-12</td>\n",
       "      <td>99</td>\n",
       "      <td>ekonomi (Subclass S)</td>\n",
       "      <td>argo parahyangan 50</td>\n",
       "    </tr>\n",
       "    <tr>\n",
       "      <th>1</th>\n",
       "      <td>2020-01-13</td>\n",
       "      <td>NaN</td>\n",
       "      <td>02:05</td>\n",
       "      <td>2020-01-12</td>\n",
       "      <td>NaN</td>\n",
       "      <td>22:55</td>\n",
       "      <td>110000</td>\n",
       "      <td>2020-01-12</td>\n",
       "      <td>99</td>\n",
       "      <td>ekonomi (Subclass S)</td>\n",
       "      <td>argo parahyangan 52</td>\n",
       "    </tr>\n",
       "    <tr>\n",
       "      <th>2</th>\n",
       "      <td>2020-01-13</td>\n",
       "      <td>NaN</td>\n",
       "      <td>02:40</td>\n",
       "      <td>2020-01-12</td>\n",
       "      <td>NaN</td>\n",
       "      <td>23:30</td>\n",
       "      <td>110000</td>\n",
       "      <td>2020-01-12</td>\n",
       "      <td>99</td>\n",
       "      <td>ekonomi (Subclass S)</td>\n",
       "      <td>argo parahyangan 70F</td>\n",
       "    </tr>\n",
       "    <tr>\n",
       "      <th>3</th>\n",
       "      <td>2020-01-13</td>\n",
       "      <td>NaN</td>\n",
       "      <td>01:27</td>\n",
       "      <td>2020-01-12</td>\n",
       "      <td>NaN</td>\n",
       "      <td>22:05</td>\n",
       "      <td>150000</td>\n",
       "      <td>2020-01-12</td>\n",
       "      <td>99</td>\n",
       "      <td>eksekutif (Subclass J)</td>\n",
       "      <td>argo parahyangan 50</td>\n",
       "    </tr>\n",
       "    <tr>\n",
       "      <th>4</th>\n",
       "      <td>2020-01-13</td>\n",
       "      <td>NaN</td>\n",
       "      <td>02:05</td>\n",
       "      <td>2020-01-12</td>\n",
       "      <td>NaN</td>\n",
       "      <td>22:55</td>\n",
       "      <td>150000</td>\n",
       "      <td>2020-01-12</td>\n",
       "      <td>99</td>\n",
       "      <td>eksekutif (Subclass J)</td>\n",
       "      <td>argo parahyangan 52</td>\n",
       "    </tr>\n",
       "  </tbody>\n",
       "</table>\n",
       "</div>"
      ],
      "text/plain": [
       "  arrival_date arrival_datetime arrival_time depart_date depart_datetime  \\\n",
       "0   2020-01-13              NaN        01:27  2020-01-12             NaN   \n",
       "1   2020-01-13              NaN        02:05  2020-01-12             NaN   \n",
       "2   2020-01-13              NaN        02:40  2020-01-12             NaN   \n",
       "3   2020-01-13              NaN        01:27  2020-01-12             NaN   \n",
       "4   2020-01-13              NaN        02:05  2020-01-12             NaN   \n",
       "\n",
       "  depart_time   price scrape_date seats                  tclass  \\\n",
       "0       22:05  110000  2020-01-12    99    ekonomi (Subclass S)   \n",
       "1       22:55  110000  2020-01-12    99    ekonomi (Subclass S)   \n",
       "2       23:30  110000  2020-01-12    99    ekonomi (Subclass S)   \n",
       "3       22:05  150000  2020-01-12    99  eksekutif (Subclass J)   \n",
       "4       22:55  150000  2020-01-12    99  eksekutif (Subclass J)   \n",
       "\n",
       "                  title  \n",
       "0   argo parahyangan 50  \n",
       "1   argo parahyangan 52  \n",
       "2  argo parahyangan 70F  \n",
       "3   argo parahyangan 50  \n",
       "4   argo parahyangan 52  "
      ]
     },
     "execution_count": 8,
     "metadata": {},
     "output_type": "execute_result"
    }
   ],
   "source": [
    "# duplicate combined dataframe\n",
    "df_raw = df\n",
    "df.head()"
   ]
  },
  {
   "cell_type": "markdown",
   "metadata": {},
   "source": [
    "## Data Preprocessing\n",
    "- Add preprocessing here based on diagnostic testing"
   ]
  },
  {
   "cell_type": "code",
   "execution_count": 9,
   "metadata": {},
   "outputs": [],
   "source": [
    "# concat date and time, then convert to datetime\n",
    "df['arrival_datetime'] = pd.to_datetime(df['arrival_date'] + ' ' + df['arrival_time'])\n",
    "df['depart_datetime'] = pd.to_datetime(df['depart_date'] + ' ' + df['depart_time'])"
   ]
  },
  {
   "cell_type": "code",
   "execution_count": 10,
   "metadata": {},
   "outputs": [],
   "source": [
    "def remove_nonnumeric(string):\n",
    "    if isinstance(string, str):\n",
    "        string = ''.join(filter(lambda x: x.isdigit(), string))\n",
    "    return string"
   ]
  },
  {
   "cell_type": "code",
   "execution_count": 11,
   "metadata": {},
   "outputs": [],
   "source": [
    "df['price'] = df['price'].apply(remove_nonnumeric).apply(pd.to_numeric)\n",
    "df['seats'] = df['seats'].apply(remove_nonnumeric).apply(pd.to_numeric)"
   ]
  },
  {
   "cell_type": "code",
   "execution_count": 12,
   "metadata": {},
   "outputs": [],
   "source": [
    "three_dates = ['arrival_date', 'depart_date', 'scrape_date']\n",
    "df[three_dates] = df[three_dates].apply(pd.to_datetime)"
   ]
  },
  {
   "cell_type": "code",
   "execution_count": 13,
   "metadata": {},
   "outputs": [],
   "source": [
    "# does arrival and depart time need to be converted into dt.time?\n",
    "# df['arrival_time'] = pd.to_datetime(df['arrival_time']).dt.time\n",
    "# df['depart_time'] = pd.to_datetime(df['depart_time']).dt.time"
   ]
  },
  {
   "cell_type": "markdown",
   "metadata": {},
   "source": [
    "## Diagnostic assumptions/test suite\n",
    "- Arrival date >= depart date\n",
    "- depart date >= scrape date\n",
    "- 0 <= seats <= 99\n"
   ]
  },
  {
   "cell_type": "code",
   "execution_count": 14,
   "metadata": {},
   "outputs": [],
   "source": [
    "assert min(df['arrival_datetime'] - df['depart_datetime']) > timedelta(0), 'arrival before departure exists'\n",
    "assert min(df['depart_date'] - df['scrape_date']) >= timedelta(0), 'departure before scrape exists'\n",
    "assert min(df['seats']) >= 0, 'negative seats exist'\n",
    "assert max(df['seats']) <= 99, '>99 seats exist'"
   ]
  },
  {
   "cell_type": "markdown",
   "metadata": {},
   "source": [
    "## View basics of data"
   ]
  },
  {
   "cell_type": "code",
   "execution_count": 15,
   "metadata": {},
   "outputs": [
    {
     "data": {
      "text/html": [
       "<div>\n",
       "<style scoped>\n",
       "    .dataframe tbody tr th:only-of-type {\n",
       "        vertical-align: middle;\n",
       "    }\n",
       "\n",
       "    .dataframe tbody tr th {\n",
       "        vertical-align: top;\n",
       "    }\n",
       "\n",
       "    .dataframe thead th {\n",
       "        text-align: right;\n",
       "    }\n",
       "</style>\n",
       "<table border=\"1\" class=\"dataframe\">\n",
       "  <thead>\n",
       "    <tr style=\"text-align: right;\">\n",
       "      <th></th>\n",
       "      <th>arrival_date</th>\n",
       "      <th>arrival_datetime</th>\n",
       "      <th>arrival_time</th>\n",
       "      <th>depart_date</th>\n",
       "      <th>depart_datetime</th>\n",
       "      <th>depart_time</th>\n",
       "      <th>price</th>\n",
       "      <th>scrape_date</th>\n",
       "      <th>seats</th>\n",
       "      <th>tclass</th>\n",
       "      <th>title</th>\n",
       "    </tr>\n",
       "  </thead>\n",
       "  <tbody>\n",
       "    <tr>\n",
       "      <th>0</th>\n",
       "      <td>2020-01-13</td>\n",
       "      <td>2020-01-13 01:27:00</td>\n",
       "      <td>01:27</td>\n",
       "      <td>2020-01-12</td>\n",
       "      <td>2020-01-12 22:05:00</td>\n",
       "      <td>22:05</td>\n",
       "      <td>110000.0</td>\n",
       "      <td>2020-01-12</td>\n",
       "      <td>99</td>\n",
       "      <td>ekonomi (Subclass S)</td>\n",
       "      <td>argo parahyangan 50</td>\n",
       "    </tr>\n",
       "    <tr>\n",
       "      <th>1</th>\n",
       "      <td>2020-01-13</td>\n",
       "      <td>2020-01-13 02:05:00</td>\n",
       "      <td>02:05</td>\n",
       "      <td>2020-01-12</td>\n",
       "      <td>2020-01-12 22:55:00</td>\n",
       "      <td>22:55</td>\n",
       "      <td>110000.0</td>\n",
       "      <td>2020-01-12</td>\n",
       "      <td>99</td>\n",
       "      <td>ekonomi (Subclass S)</td>\n",
       "      <td>argo parahyangan 52</td>\n",
       "    </tr>\n",
       "    <tr>\n",
       "      <th>2</th>\n",
       "      <td>2020-01-13</td>\n",
       "      <td>2020-01-13 02:40:00</td>\n",
       "      <td>02:40</td>\n",
       "      <td>2020-01-12</td>\n",
       "      <td>2020-01-12 23:30:00</td>\n",
       "      <td>23:30</td>\n",
       "      <td>110000.0</td>\n",
       "      <td>2020-01-12</td>\n",
       "      <td>99</td>\n",
       "      <td>ekonomi (Subclass S)</td>\n",
       "      <td>argo parahyangan 70F</td>\n",
       "    </tr>\n",
       "    <tr>\n",
       "      <th>3</th>\n",
       "      <td>2020-01-13</td>\n",
       "      <td>2020-01-13 01:27:00</td>\n",
       "      <td>01:27</td>\n",
       "      <td>2020-01-12</td>\n",
       "      <td>2020-01-12 22:05:00</td>\n",
       "      <td>22:05</td>\n",
       "      <td>150000.0</td>\n",
       "      <td>2020-01-12</td>\n",
       "      <td>99</td>\n",
       "      <td>eksekutif (Subclass J)</td>\n",
       "      <td>argo parahyangan 50</td>\n",
       "    </tr>\n",
       "    <tr>\n",
       "      <th>4</th>\n",
       "      <td>2020-01-13</td>\n",
       "      <td>2020-01-13 02:05:00</td>\n",
       "      <td>02:05</td>\n",
       "      <td>2020-01-12</td>\n",
       "      <td>2020-01-12 22:55:00</td>\n",
       "      <td>22:55</td>\n",
       "      <td>150000.0</td>\n",
       "      <td>2020-01-12</td>\n",
       "      <td>99</td>\n",
       "      <td>eksekutif (Subclass J)</td>\n",
       "      <td>argo parahyangan 52</td>\n",
       "    </tr>\n",
       "  </tbody>\n",
       "</table>\n",
       "</div>"
      ],
      "text/plain": [
       "  arrival_date    arrival_datetime arrival_time depart_date  \\\n",
       "0   2020-01-13 2020-01-13 01:27:00        01:27  2020-01-12   \n",
       "1   2020-01-13 2020-01-13 02:05:00        02:05  2020-01-12   \n",
       "2   2020-01-13 2020-01-13 02:40:00        02:40  2020-01-12   \n",
       "3   2020-01-13 2020-01-13 01:27:00        01:27  2020-01-12   \n",
       "4   2020-01-13 2020-01-13 02:05:00        02:05  2020-01-12   \n",
       "\n",
       "      depart_datetime depart_time     price scrape_date  seats  \\\n",
       "0 2020-01-12 22:05:00       22:05  110000.0  2020-01-12     99   \n",
       "1 2020-01-12 22:55:00       22:55  110000.0  2020-01-12     99   \n",
       "2 2020-01-12 23:30:00       23:30  110000.0  2020-01-12     99   \n",
       "3 2020-01-12 22:05:00       22:05  150000.0  2020-01-12     99   \n",
       "4 2020-01-12 22:55:00       22:55  150000.0  2020-01-12     99   \n",
       "\n",
       "                   tclass                 title  \n",
       "0    ekonomi (Subclass S)   argo parahyangan 50  \n",
       "1    ekonomi (Subclass S)   argo parahyangan 52  \n",
       "2    ekonomi (Subclass S)  argo parahyangan 70F  \n",
       "3  eksekutif (Subclass J)   argo parahyangan 50  \n",
       "4  eksekutif (Subclass J)   argo parahyangan 52  "
      ]
     },
     "execution_count": 15,
     "metadata": {},
     "output_type": "execute_result"
    }
   ],
   "source": [
    "df.head()"
   ]
  },
  {
   "cell_type": "code",
   "execution_count": 16,
   "metadata": {
    "scrolled": true
   },
   "outputs": [
    {
     "data": {
      "text/html": [
       "<div>\n",
       "<style scoped>\n",
       "    .dataframe tbody tr th:only-of-type {\n",
       "        vertical-align: middle;\n",
       "    }\n",
       "\n",
       "    .dataframe tbody tr th {\n",
       "        vertical-align: top;\n",
       "    }\n",
       "\n",
       "    .dataframe thead th {\n",
       "        text-align: right;\n",
       "    }\n",
       "</style>\n",
       "<table border=\"1\" class=\"dataframe\">\n",
       "  <thead>\n",
       "    <tr style=\"text-align: right;\">\n",
       "      <th></th>\n",
       "      <th>price</th>\n",
       "      <th>seats</th>\n",
       "    </tr>\n",
       "  </thead>\n",
       "  <tbody>\n",
       "    <tr>\n",
       "      <th>count</th>\n",
       "      <td>3584.000000</td>\n",
       "      <td>9508.000000</td>\n",
       "    </tr>\n",
       "    <tr>\n",
       "      <th>mean</th>\n",
       "      <td>167945.033482</td>\n",
       "      <td>35.573412</td>\n",
       "    </tr>\n",
       "    <tr>\n",
       "      <th>std</th>\n",
       "      <td>66595.659819</td>\n",
       "      <td>47.397932</td>\n",
       "    </tr>\n",
       "    <tr>\n",
       "      <th>min</th>\n",
       "      <td>110000.000000</td>\n",
       "      <td>0.000000</td>\n",
       "    </tr>\n",
       "    <tr>\n",
       "      <th>25%</th>\n",
       "      <td>110000.000000</td>\n",
       "      <td>0.000000</td>\n",
       "    </tr>\n",
       "    <tr>\n",
       "      <th>50%</th>\n",
       "      <td>150000.000000</td>\n",
       "      <td>0.000000</td>\n",
       "    </tr>\n",
       "    <tr>\n",
       "      <th>75%</th>\n",
       "      <td>170000.000000</td>\n",
       "      <td>99.000000</td>\n",
       "    </tr>\n",
       "    <tr>\n",
       "      <th>max</th>\n",
       "      <td>375000.000000</td>\n",
       "      <td>99.000000</td>\n",
       "    </tr>\n",
       "  </tbody>\n",
       "</table>\n",
       "</div>"
      ],
      "text/plain": [
       "               price        seats\n",
       "count    3584.000000  9508.000000\n",
       "mean   167945.033482    35.573412\n",
       "std     66595.659819    47.397932\n",
       "min    110000.000000     0.000000\n",
       "25%    110000.000000     0.000000\n",
       "50%    150000.000000     0.000000\n",
       "75%    170000.000000    99.000000\n",
       "max    375000.000000    99.000000"
      ]
     },
     "execution_count": 16,
     "metadata": {},
     "output_type": "execute_result"
    }
   ],
   "source": [
    "df.describe()"
   ]
  },
  {
   "cell_type": "code",
   "execution_count": 17,
   "metadata": {},
   "outputs": [
    {
     "data": {
      "text/plain": [
       "arrival_date        datetime64[ns]\n",
       "arrival_datetime    datetime64[ns]\n",
       "arrival_time                object\n",
       "depart_date         datetime64[ns]\n",
       "depart_datetime     datetime64[ns]\n",
       "depart_time                 object\n",
       "price                      float64\n",
       "scrape_date         datetime64[ns]\n",
       "seats                        int64\n",
       "tclass                      object\n",
       "title                       object\n",
       "dtype: object"
      ]
     },
     "execution_count": 17,
     "metadata": {},
     "output_type": "execute_result"
    }
   ],
   "source": [
    "df.dtypes\n",
    "# all data types seem to be objects"
   ]
  },
  {
   "cell_type": "markdown",
   "metadata": {},
   "source": [
    "## Exploratory questions & assumptions\n",
    "1. which times, days, classes are the least available?\n",
    "2. When do the least available tickets start becoming unavailable?"
   ]
  },
  {
   "cell_type": "markdown",
   "metadata": {},
   "source": [
    "Target variable: % unavailable tickets on a day/time/class \n",
    "= (Seats == 0) / (# seats in group)"
   ]
  },
  {
   "cell_type": "markdown",
   "metadata": {},
   "source": [
    "### Start with today's scrape data only"
   ]
  },
  {
   "cell_type": "code",
   "execution_count": 51,
   "metadata": {},
   "outputs": [
    {
     "data": {
      "text/plain": [
       "0.38095238095238093"
      ]
     },
     "execution_count": 51,
     "metadata": {},
     "output_type": "execute_result"
    }
   ],
   "source": [
    "# average availability over next 20 days\n",
    "df_today['has_seats'] = df_today['seats'].apply(pd.to_numeric) > 0\n",
    "df_today['has_seats'].mean()"
   ]
  },
  {
   "cell_type": "markdown",
   "metadata": {},
   "source": [
    "Only 38% of trains had available tickets"
   ]
  },
  {
   "cell_type": "code",
   "execution_count": 53,
   "metadata": {},
   "outputs": [
    {
     "data": {
      "text/plain": [
       "depart_date\n",
       "2020-01-12    0.269231\n",
       "2020-01-13    0.350877\n",
       "2020-01-14    0.401869\n",
       "2020-01-15    0.401869\n",
       "2020-01-16    0.412844\n",
       "2020-01-17    0.216216\n",
       "2020-01-18    0.379310\n",
       "2020-01-19    0.413793\n",
       "2020-01-20    0.403509\n",
       "2020-01-21    0.401869\n",
       "2020-01-22    0.401869\n",
       "2020-01-23    0.412844\n",
       "2020-01-24    0.279279\n",
       "2020-01-25    0.396552\n",
       "2020-01-26    0.413793\n",
       "2020-01-27    0.403509\n",
       "2020-01-28    0.401869\n",
       "2020-01-29    0.401869\n",
       "2020-01-30    0.412844\n",
       "2020-01-31    0.342342\n",
       "2020-02-01    0.398230\n",
       "Name: has_seats, dtype: float64"
      ]
     },
     "execution_count": 53,
     "metadata": {},
     "output_type": "execute_result"
    }
   ],
   "source": [
    "# grouped per day\n",
    "df_today.groupby('depart_date')['has_seats'].mean()"
   ]
  },
  {
   "cell_type": "markdown",
   "metadata": {},
   "source": [
    "after next two days, average avaialiblity = 40%"
   ]
  }
 ],
 "metadata": {
  "kernelspec": {
   "display_name": "Python 3",
   "language": "python",
   "name": "python3"
  },
  "language_info": {
   "codemirror_mode": {
    "name": "ipython",
    "version": 3
   },
   "file_extension": ".py",
   "mimetype": "text/x-python",
   "name": "python",
   "nbconvert_exporter": "python",
   "pygments_lexer": "ipython3",
   "version": "3.7.3"
  },
  "toc": {
   "base_numbering": 1,
   "nav_menu": {},
   "number_sections": true,
   "sideBar": true,
   "skip_h1_title": false,
   "title_cell": "Table of Contents",
   "title_sidebar": "Contents",
   "toc_cell": false,
   "toc_position": {},
   "toc_section_display": true,
   "toc_window_display": false
  }
 },
 "nbformat": 4,
 "nbformat_minor": 2
}
