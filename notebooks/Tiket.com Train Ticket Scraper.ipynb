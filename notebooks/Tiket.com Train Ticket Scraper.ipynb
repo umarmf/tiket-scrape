{
 "cells": [
  {
   "cell_type": "markdown",
   "metadata": {},
   "source": [
    "# Work in Progress/Add in Future:\n",
    "\n",
    "- Scrape data for min. 1 week\n",
    "- Change cities"
   ]
  },
  {
   "cell_type": "code",
   "execution_count": 1,
   "metadata": {},
   "outputs": [],
   "source": [
    "import os\n",
    "import sys\n",
    "from datetime import datetime as dt\n",
    "from datetime import date\n",
    "from datetime import timedelta\n",
    "import glob\n",
    "import numpy as np\n",
    "import pandas as pd"
   ]
  },
  {
   "cell_type": "code",
   "execution_count": 2,
   "metadata": {},
   "outputs": [],
   "source": [
    "sys.path.insert(0, os.path.abspath('..\\modules'))"
   ]
  },
  {
   "cell_type": "code",
   "execution_count": 3,
   "metadata": {},
   "outputs": [],
   "source": [
    "import pricemate as pm"
   ]
  },
  {
   "cell_type": "code",
   "execution_count": 4,
   "metadata": {},
   "outputs": [
    {
     "name": "stdout",
     "output_type": "stream",
     "text": [
      "\n",
      "Looking for [chromedriver 79.0.3945.36 win32] driver in cache \n",
      "File found in cache by path [C:\\Users\\Zenbook\\.wdm\\drivers\\chromedriver\\79.0.3945.36\\win32\\chromedriver.exe]\n"
     ]
    }
   ],
   "source": [
    "# scrape data using pricemate module\n",
    "df_today = pm.multiple_days_df(0,20)"
   ]
  },
  {
   "cell_type": "code",
   "execution_count": 30,
   "metadata": {},
   "outputs": [],
   "source": [
    "# add scrape_date\n",
    "df_today['scrape_datetime'] = dt.now().strftime('%Y-%m-%d %H:%M:%S')"
   ]
  },
  {
   "cell_type": "code",
   "execution_count": 31,
   "metadata": {},
   "outputs": [],
   "source": [
    "# export scrape output to new csv\n",
    "todaydate = date.today().strftime('%Y%m%d')\n",
    "df_today.to_csv('..\\scrape-csv\\gmr-bdg-' + todaydate + '.csv', index=False)"
   ]
  },
  {
   "cell_type": "code",
   "execution_count": 32,
   "metadata": {},
   "outputs": [
    {
     "name": "stdout",
     "output_type": "stream",
     "text": [
      "Earliest scrape: 2020-01-08 01:19:46\n",
      "Latest scrape: 2020-01-08 01:19:46\n"
     ]
    }
   ],
   "source": [
    "# import and combine past scrape data with today's scrape, if any\n",
    "df = df_today\n",
    "files = glob.glob('..\\scrape-csv\\*.csv')\n",
    "for file in files:\n",
    "    scrapedate = file[-12:-4]\n",
    "    if scrapedate < todaydate:\n",
    "        pastdf = pd.read_csv(file)\n",
    "        df.append(pastdf)\n",
    "        \n",
    "print('Earliest scrape: ' + str(min(df['scrape_datetime'])))\n",
    "print('Latest scrape: ' + str(max(df['scrape_datetime'])))"
   ]
  },
  {
   "cell_type": "code",
   "execution_count": 8,
   "metadata": {},
   "outputs": [
    {
     "data": {
      "text/html": [
       "<div>\n",
       "<style scoped>\n",
       "    .dataframe tbody tr th:only-of-type {\n",
       "        vertical-align: middle;\n",
       "    }\n",
       "\n",
       "    .dataframe tbody tr th {\n",
       "        vertical-align: top;\n",
       "    }\n",
       "\n",
       "    .dataframe thead th {\n",
       "        text-align: right;\n",
       "    }\n",
       "</style>\n",
       "<table border=\"1\" class=\"dataframe\">\n",
       "  <thead>\n",
       "    <tr style=\"text-align: right;\">\n",
       "      <th></th>\n",
       "      <th>arrival_date</th>\n",
       "      <th>arrival_time</th>\n",
       "      <th>depart_date</th>\n",
       "      <th>depart_time</th>\n",
       "      <th>price</th>\n",
       "      <th>seats</th>\n",
       "      <th>tclass</th>\n",
       "      <th>title</th>\n",
       "      <th>scrape_datetime</th>\n",
       "    </tr>\n",
       "  </thead>\n",
       "  <tbody>\n",
       "    <tr>\n",
       "      <th>0</th>\n",
       "      <td>2020-01-08</td>\n",
       "      <td>08:46</td>\n",
       "      <td>2020-01-08</td>\n",
       "      <td>05:30</td>\n",
       "      <td>110000</td>\n",
       "      <td>99</td>\n",
       "      <td>ekonomi (Subclass S)</td>\n",
       "      <td>argo parahyangan 36</td>\n",
       "      <td>2020-01-08 00:47:36.598803</td>\n",
       "    </tr>\n",
       "    <tr>\n",
       "      <th>1</th>\n",
       "      <td>2020-01-08</td>\n",
       "      <td>09:49</td>\n",
       "      <td>2020-01-08</td>\n",
       "      <td>06:15</td>\n",
       "      <td>110000</td>\n",
       "      <td>99</td>\n",
       "      <td>ekonomi (Subclass S)</td>\n",
       "      <td>argo parahyangan 38</td>\n",
       "      <td>2020-01-08 00:47:36.598803</td>\n",
       "    </tr>\n",
       "    <tr>\n",
       "      <th>2</th>\n",
       "      <td>2020-01-08</td>\n",
       "      <td>11:19</td>\n",
       "      <td>2020-01-08</td>\n",
       "      <td>07:50</td>\n",
       "      <td>110000</td>\n",
       "      <td>99</td>\n",
       "      <td>ekonomi (Subclass C)</td>\n",
       "      <td>pangandaran 176</td>\n",
       "      <td>2020-01-08 00:47:36.598803</td>\n",
       "    </tr>\n",
       "    <tr>\n",
       "      <th>3</th>\n",
       "      <td>2020-01-08</td>\n",
       "      <td>12:13</td>\n",
       "      <td>2020-01-08</td>\n",
       "      <td>08:55</td>\n",
       "      <td>110000</td>\n",
       "      <td>99</td>\n",
       "      <td>ekonomi (Subclass S)</td>\n",
       "      <td>argo parahyangan 40</td>\n",
       "      <td>2020-01-08 00:47:36.598803</td>\n",
       "    </tr>\n",
       "    <tr>\n",
       "      <th>4</th>\n",
       "      <td>2020-01-08</td>\n",
       "      <td>14:09</td>\n",
       "      <td>2020-01-08</td>\n",
       "      <td>10:45</td>\n",
       "      <td>110000</td>\n",
       "      <td>99</td>\n",
       "      <td>ekonomi (Subclass S)</td>\n",
       "      <td>argo parahyangan 42</td>\n",
       "      <td>2020-01-08 00:47:36.598803</td>\n",
       "    </tr>\n",
       "  </tbody>\n",
       "</table>\n",
       "</div>"
      ],
      "text/plain": [
       "  arrival_date arrival_time depart_date depart_time   price seats  \\\n",
       "0   2020-01-08        08:46  2020-01-08       05:30  110000    99   \n",
       "1   2020-01-08        09:49  2020-01-08       06:15  110000    99   \n",
       "2   2020-01-08        11:19  2020-01-08       07:50  110000    99   \n",
       "3   2020-01-08        12:13  2020-01-08       08:55  110000    99   \n",
       "4   2020-01-08        14:09  2020-01-08       10:45  110000    99   \n",
       "\n",
       "                 tclass                title            scrape_datetime  \n",
       "0  ekonomi (Subclass S)  argo parahyangan 36 2020-01-08 00:47:36.598803  \n",
       "1  ekonomi (Subclass S)  argo parahyangan 38 2020-01-08 00:47:36.598803  \n",
       "2  ekonomi (Subclass C)      pangandaran 176 2020-01-08 00:47:36.598803  \n",
       "3  ekonomi (Subclass S)  argo parahyangan 40 2020-01-08 00:47:36.598803  \n",
       "4  ekonomi (Subclass S)  argo parahyangan 42 2020-01-08 00:47:36.598803  "
      ]
     },
     "execution_count": 8,
     "metadata": {},
     "output_type": "execute_result"
    }
   ],
   "source": [
    "# duplicate combined dataframe and examine head\n",
    "df_raw = df\n"
   ]
  },
  {
   "cell_type": "code",
   "execution_count": 9,
   "metadata": {},
   "outputs": [
    {
     "data": {
      "text/html": [
       "<div>\n",
       "<style scoped>\n",
       "    .dataframe tbody tr th:only-of-type {\n",
       "        vertical-align: middle;\n",
       "    }\n",
       "\n",
       "    .dataframe tbody tr th {\n",
       "        vertical-align: top;\n",
       "    }\n",
       "\n",
       "    .dataframe thead th {\n",
       "        text-align: right;\n",
       "    }\n",
       "</style>\n",
       "<table border=\"1\" class=\"dataframe\">\n",
       "  <thead>\n",
       "    <tr style=\"text-align: right;\">\n",
       "      <th></th>\n",
       "      <th>arrival_date</th>\n",
       "      <th>arrival_time</th>\n",
       "      <th>depart_date</th>\n",
       "      <th>depart_time</th>\n",
       "      <th>price</th>\n",
       "      <th>seats</th>\n",
       "      <th>tclass</th>\n",
       "      <th>title</th>\n",
       "      <th>scrape_datetime</th>\n",
       "    </tr>\n",
       "  </thead>\n",
       "  <tbody>\n",
       "    <tr>\n",
       "      <th>count</th>\n",
       "      <td>2340</td>\n",
       "      <td>2340</td>\n",
       "      <td>2340</td>\n",
       "      <td>2340</td>\n",
       "      <td>2340</td>\n",
       "      <td>2340.0</td>\n",
       "      <td>2340</td>\n",
       "      <td>2340</td>\n",
       "      <td>2340</td>\n",
       "    </tr>\n",
       "    <tr>\n",
       "      <th>unique</th>\n",
       "      <td>22</td>\n",
       "      <td>18</td>\n",
       "      <td>21</td>\n",
       "      <td>18</td>\n",
       "      <td>14</td>\n",
       "      <td>12.0</td>\n",
       "      <td>10</td>\n",
       "      <td>28</td>\n",
       "      <td>1</td>\n",
       "    </tr>\n",
       "    <tr>\n",
       "      <th>top</th>\n",
       "      <td>2020-01-19</td>\n",
       "      <td>20:29</td>\n",
       "      <td>2020-01-18</td>\n",
       "      <td>17:10</td>\n",
       "      <td></td>\n",
       "      <td>0.0</td>\n",
       "      <td>eksekutif (Subclass I)</td>\n",
       "      <td>mutiara selatan 104</td>\n",
       "      <td>2020-01-08 00:47:36.598803</td>\n",
       "    </tr>\n",
       "    <tr>\n",
       "      <th>freq</th>\n",
       "      <td>116</td>\n",
       "      <td>210</td>\n",
       "      <td>116</td>\n",
       "      <td>210</td>\n",
       "      <td>1457</td>\n",
       "      <td>1457.0</td>\n",
       "      <td>492</td>\n",
       "      <td>210</td>\n",
       "      <td>2340</td>\n",
       "    </tr>\n",
       "    <tr>\n",
       "      <th>first</th>\n",
       "      <td>NaN</td>\n",
       "      <td>NaN</td>\n",
       "      <td>NaN</td>\n",
       "      <td>NaN</td>\n",
       "      <td>NaN</td>\n",
       "      <td>NaN</td>\n",
       "      <td>NaN</td>\n",
       "      <td>NaN</td>\n",
       "      <td>2020-01-08 00:47:36.598803</td>\n",
       "    </tr>\n",
       "    <tr>\n",
       "      <th>last</th>\n",
       "      <td>NaN</td>\n",
       "      <td>NaN</td>\n",
       "      <td>NaN</td>\n",
       "      <td>NaN</td>\n",
       "      <td>NaN</td>\n",
       "      <td>NaN</td>\n",
       "      <td>NaN</td>\n",
       "      <td>NaN</td>\n",
       "      <td>2020-01-08 00:47:36.598803</td>\n",
       "    </tr>\n",
       "  </tbody>\n",
       "</table>\n",
       "</div>"
      ],
      "text/plain": [
       "       arrival_date arrival_time depart_date depart_time price   seats  \\\n",
       "count          2340         2340        2340        2340  2340  2340.0   \n",
       "unique           22           18          21          18    14    12.0   \n",
       "top      2020-01-19        20:29  2020-01-18       17:10           0.0   \n",
       "freq            116          210         116         210  1457  1457.0   \n",
       "first           NaN          NaN         NaN         NaN   NaN     NaN   \n",
       "last            NaN          NaN         NaN         NaN   NaN     NaN   \n",
       "\n",
       "                        tclass                title  \\\n",
       "count                     2340                 2340   \n",
       "unique                      10                   28   \n",
       "top     eksekutif (Subclass I)  mutiara selatan 104   \n",
       "freq                       492                  210   \n",
       "first                      NaN                  NaN   \n",
       "last                       NaN                  NaN   \n",
       "\n",
       "                   scrape_datetime  \n",
       "count                         2340  \n",
       "unique                           1  \n",
       "top     2020-01-08 00:47:36.598803  \n",
       "freq                          2340  \n",
       "first   2020-01-08 00:47:36.598803  \n",
       "last    2020-01-08 00:47:36.598803  "
      ]
     },
     "execution_count": 9,
     "metadata": {},
     "output_type": "execute_result"
    }
   ],
   "source": [
    "df.describe()"
   ]
  },
  {
   "cell_type": "code",
   "execution_count": 10,
   "metadata": {},
   "outputs": [
    {
     "data": {
      "text/plain": [
       "arrival_date               object\n",
       "arrival_time               object\n",
       "depart_date                object\n",
       "depart_time                object\n",
       "price                      object\n",
       "seats                      object\n",
       "tclass                     object\n",
       "title                      object\n",
       "scrape_datetime    datetime64[ns]\n",
       "dtype: object"
      ]
     },
     "execution_count": 10,
     "metadata": {},
     "output_type": "execute_result"
    }
   ],
   "source": [
    "df.dtypes\n",
    "# all data types seem to be objects"
   ]
  },
  {
   "cell_type": "markdown",
   "metadata": {},
   "source": [
    "## Data Preprocessing\n",
    "- Add preprocessing here based on diagnostic testing"
   ]
  },
  {
   "cell_type": "code",
   "execution_count": 12,
   "metadata": {},
   "outputs": [],
   "source": [
    "# concat date and time, then convert to datetime\n",
    "df['arrival_datetime'] = pd.to_datetime(df['arrival_date'] + ' ' + df['arrival_time'])\n",
    "df['depart_datetime'] = pd.to_datetime(df['depart_date'] + ' ' + df['depart_time'])"
   ]
  },
  {
   "cell_type": "code",
   "execution_count": 13,
   "metadata": {},
   "outputs": [],
   "source": [
    "df[['price', 'seats']] = df[['price', 'seats']].apply(pd.to_numeric)"
   ]
  },
  {
   "cell_type": "code",
   "execution_count": 14,
   "metadata": {},
   "outputs": [],
   "source": [
    "df[['arrival_date', 'depart_date']] = df[['arrival_date', 'depart_date']].apply(pd.to_datetime)\n",
    "df['arrival_time'] = pd.to_datetime(df['arrival_time'],format= '%H:%M').dt.time\n",
    "df['depart_time'] = pd.to_datetime(df['depart_time'],format= '%H:%M').dt.time"
   ]
  },
  {
   "cell_type": "markdown",
   "metadata": {},
   "source": [
    "## Diagnostic assumptions/test suite\n",
    "- Arrival date >= depart date\n",
    "- depart date >= scrape date\n",
    "- 0 <= seats <= 99\n"
   ]
  },
  {
   "cell_type": "code",
   "execution_count": 16,
   "metadata": {},
   "outputs": [
    {
     "data": {
      "text/html": [
       "<div>\n",
       "<style scoped>\n",
       "    .dataframe tbody tr th:only-of-type {\n",
       "        vertical-align: middle;\n",
       "    }\n",
       "\n",
       "    .dataframe tbody tr th {\n",
       "        vertical-align: top;\n",
       "    }\n",
       "\n",
       "    .dataframe thead th {\n",
       "        text-align: right;\n",
       "    }\n",
       "</style>\n",
       "<table border=\"1\" class=\"dataframe\">\n",
       "  <thead>\n",
       "    <tr style=\"text-align: right;\">\n",
       "      <th></th>\n",
       "      <th>arrival_date</th>\n",
       "      <th>arrival_time</th>\n",
       "      <th>depart_date</th>\n",
       "      <th>depart_time</th>\n",
       "      <th>price</th>\n",
       "      <th>seats</th>\n",
       "      <th>tclass</th>\n",
       "      <th>title</th>\n",
       "      <th>scrape_datetime</th>\n",
       "      <th>arrival_datetime</th>\n",
       "      <th>depart_datetime</th>\n",
       "    </tr>\n",
       "  </thead>\n",
       "  <tbody>\n",
       "    <tr>\n",
       "      <th>0</th>\n",
       "      <td>2020-01-08</td>\n",
       "      <td>08:46:00</td>\n",
       "      <td>2020-01-08</td>\n",
       "      <td>05:30:00</td>\n",
       "      <td>110000.0</td>\n",
       "      <td>99</td>\n",
       "      <td>ekonomi (Subclass S)</td>\n",
       "      <td>argo parahyangan 36</td>\n",
       "      <td>2020-01-08 00:47:36.598803</td>\n",
       "      <td>2020-01-08 08:46:00</td>\n",
       "      <td>2020-01-08 05:30:00</td>\n",
       "    </tr>\n",
       "    <tr>\n",
       "      <th>1</th>\n",
       "      <td>2020-01-08</td>\n",
       "      <td>09:49:00</td>\n",
       "      <td>2020-01-08</td>\n",
       "      <td>06:15:00</td>\n",
       "      <td>110000.0</td>\n",
       "      <td>99</td>\n",
       "      <td>ekonomi (Subclass S)</td>\n",
       "      <td>argo parahyangan 38</td>\n",
       "      <td>2020-01-08 00:47:36.598803</td>\n",
       "      <td>2020-01-08 09:49:00</td>\n",
       "      <td>2020-01-08 06:15:00</td>\n",
       "    </tr>\n",
       "    <tr>\n",
       "      <th>2</th>\n",
       "      <td>2020-01-08</td>\n",
       "      <td>11:19:00</td>\n",
       "      <td>2020-01-08</td>\n",
       "      <td>07:50:00</td>\n",
       "      <td>110000.0</td>\n",
       "      <td>99</td>\n",
       "      <td>ekonomi (Subclass C)</td>\n",
       "      <td>pangandaran 176</td>\n",
       "      <td>2020-01-08 00:47:36.598803</td>\n",
       "      <td>2020-01-08 11:19:00</td>\n",
       "      <td>2020-01-08 07:50:00</td>\n",
       "    </tr>\n",
       "    <tr>\n",
       "      <th>3</th>\n",
       "      <td>2020-01-08</td>\n",
       "      <td>12:13:00</td>\n",
       "      <td>2020-01-08</td>\n",
       "      <td>08:55:00</td>\n",
       "      <td>110000.0</td>\n",
       "      <td>99</td>\n",
       "      <td>ekonomi (Subclass S)</td>\n",
       "      <td>argo parahyangan 40</td>\n",
       "      <td>2020-01-08 00:47:36.598803</td>\n",
       "      <td>2020-01-08 12:13:00</td>\n",
       "      <td>2020-01-08 08:55:00</td>\n",
       "    </tr>\n",
       "    <tr>\n",
       "      <th>4</th>\n",
       "      <td>2020-01-08</td>\n",
       "      <td>14:09:00</td>\n",
       "      <td>2020-01-08</td>\n",
       "      <td>10:45:00</td>\n",
       "      <td>110000.0</td>\n",
       "      <td>99</td>\n",
       "      <td>ekonomi (Subclass S)</td>\n",
       "      <td>argo parahyangan 42</td>\n",
       "      <td>2020-01-08 00:47:36.598803</td>\n",
       "      <td>2020-01-08 14:09:00</td>\n",
       "      <td>2020-01-08 10:45:00</td>\n",
       "    </tr>\n",
       "  </tbody>\n",
       "</table>\n",
       "</div>"
      ],
      "text/plain": [
       "  arrival_date arrival_time depart_date depart_time     price  seats  \\\n",
       "0   2020-01-08     08:46:00  2020-01-08    05:30:00  110000.0     99   \n",
       "1   2020-01-08     09:49:00  2020-01-08    06:15:00  110000.0     99   \n",
       "2   2020-01-08     11:19:00  2020-01-08    07:50:00  110000.0     99   \n",
       "3   2020-01-08     12:13:00  2020-01-08    08:55:00  110000.0     99   \n",
       "4   2020-01-08     14:09:00  2020-01-08    10:45:00  110000.0     99   \n",
       "\n",
       "                 tclass                title            scrape_datetime  \\\n",
       "0  ekonomi (Subclass S)  argo parahyangan 36 2020-01-08 00:47:36.598803   \n",
       "1  ekonomi (Subclass S)  argo parahyangan 38 2020-01-08 00:47:36.598803   \n",
       "2  ekonomi (Subclass C)      pangandaran 176 2020-01-08 00:47:36.598803   \n",
       "3  ekonomi (Subclass S)  argo parahyangan 40 2020-01-08 00:47:36.598803   \n",
       "4  ekonomi (Subclass S)  argo parahyangan 42 2020-01-08 00:47:36.598803   \n",
       "\n",
       "     arrival_datetime     depart_datetime  \n",
       "0 2020-01-08 08:46:00 2020-01-08 05:30:00  \n",
       "1 2020-01-08 09:49:00 2020-01-08 06:15:00  \n",
       "2 2020-01-08 11:19:00 2020-01-08 07:50:00  \n",
       "3 2020-01-08 12:13:00 2020-01-08 08:55:00  \n",
       "4 2020-01-08 14:09:00 2020-01-08 10:45:00  "
      ]
     },
     "execution_count": 16,
     "metadata": {},
     "output_type": "execute_result"
    }
   ],
   "source": [
    "assert min(df['arrival_datetime'] - df['depart_datetime']) > timedelta(0), 'arrival before departure exists'\n",
    "assert min(df['depart_datetime'] - df['scrape_datetime']) > timedelta(0), 'departure before scrape exists'\n",
    "assert min(df['seats']) >= 0, 'negative seats exist'\n",
    "assert max(df['seats']) <= 99, '>99 seats exist'\n",
    "df.head()"
   ]
  },
  {
   "cell_type": "markdown",
   "metadata": {},
   "source": [
    "## Exploratory questions & assumptions\n",
    "1. earliest available ekonomi train for each day of the week\n",
    "2. which times and days are the least available?\n",
    "3. When do the least available tickets start becoming unavailable?"
   ]
  },
  {
   "cell_type": "code",
   "execution_count": null,
   "metadata": {},
   "outputs": [],
   "source": []
  }
 ],
 "metadata": {
  "kernelspec": {
   "display_name": "Python 3",
   "language": "python",
   "name": "python3"
  },
  "language_info": {
   "codemirror_mode": {
    "name": "ipython",
    "version": 3
   },
   "file_extension": ".py",
   "mimetype": "text/x-python",
   "name": "python",
   "nbconvert_exporter": "python",
   "pygments_lexer": "ipython3",
   "version": "3.7.3"
  },
  "toc": {
   "base_numbering": 1,
   "nav_menu": {},
   "number_sections": true,
   "sideBar": true,
   "skip_h1_title": false,
   "title_cell": "Table of Contents",
   "title_sidebar": "Contents",
   "toc_cell": false,
   "toc_position": {},
   "toc_section_display": true,
   "toc_window_display": false
  }
 },
 "nbformat": 4,
 "nbformat_minor": 2
}
